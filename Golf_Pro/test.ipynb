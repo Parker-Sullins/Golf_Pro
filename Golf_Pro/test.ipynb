{
 "cells": [
  {
   "cell_type": "code",
   "execution_count": 50,
   "outputs": [],
   "source": [
    "import pandas as pd\n",
    "from sklearn.model_selection import train_test_split\n",
    "from sklearn.pipeline import make_pipeline\n",
    "from sklearn.preprocessing import StandardScaler\n",
    "from sklearn.metrics import accuracy_score\n",
    "from sklearn.linear_model import LogisticRegression, RidgeClassifier\n",
    "from sklearn.ensemble import RandomForestClassifier, GradientBoostingClassifier\n",
    "import pickle"
   ],
   "metadata": {
    "collapsed": false,
    "pycharm": {
     "name": "#%%\n"
    }
   }
  },
  {
   "cell_type": "code",
   "execution_count": 51,
   "outputs": [],
   "source": [
    "flag = True\n",
    "\n",
    "if flag:\n",
    "    df = pd.read_csv(\"C:\\\\Users\\\\prsullins\\\\OneDrive - Creative Manufacturing, LLC\\\\ALM.SWE\\\\DGMD-14\\\\golf.csv\")"
   ],
   "metadata": {
    "collapsed": false,
    "pycharm": {
     "name": "#%%\n"
    }
   }
  },
  {
   "cell_type": "code",
   "execution_count": null,
   "outputs": [],
   "source": [],
   "metadata": {
    "collapsed": false,
    "pycharm": {
     "name": "#%%\n"
    }
   }
  },
  {
   "cell_type": "code",
   "execution_count": null,
   "outputs": [],
   "source": [
    "    X = df.drop('class', axis=1) # features\n",
    "    y = df['class'] # target value\n",
    "\n",
    "    X_train, X_test, y_train, y_test = train_test_split(X, y, test_size=0.3, random_state=1234)\n",
    "\n",
    "    pipelines = {\n",
    "        'lr':make_pipeline(StandardScaler(), LogisticRegression(max_iter=50)),\n",
    "        'rc':make_pipeline(StandardScaler(), RidgeClassifier()),\n",
    "        'rf':make_pipeline(StandardScaler(), RandomForestClassifier()),\n",
    "        'gb':make_pipeline(StandardScaler(), GradientBoostingClassifier()),\n",
    "    }"
   ],
   "metadata": {
    "collapsed": false,
    "pycharm": {
     "name": "#%%\n"
    }
   }
  },
  {
   "cell_type": "code",
   "execution_count": 52,
   "outputs": [
    {
     "name": "stderr",
     "output_type": "stream",
     "text": [
      "c:\\users\\prsullins\\.virtualenvs\\pythonproject3-g6kt0vef\\lib\\site-packages\\sklearn\\linear_model\\_logistic.py:765: ConvergenceWarning: lbfgs failed to converge (status=1):\n",
      "STOP: TOTAL NO. of ITERATIONS REACHED LIMIT.\n",
      "\n",
      "Increase the number of iterations (max_iter) or scale the data as shown in:\n",
      "    https://scikit-learn.org/stable/modules/preprocessing.html\n",
      "Please also refer to the documentation for alternative solver options:\n",
      "    https://scikit-learn.org/stable/modules/linear_model.html#logistic-regression\n",
      "  extra_warning_msg=_LOGISTIC_SOLVER_CONVERGENCE_MSG)\n"
     ]
    }
   ],
   "source": [
    "    fit_models = {}\n",
    "    for algo, pipeline in pipelines.items():\n",
    "        model = pipeline.fit(X_train, y_train)\n",
    "        fit_models[algo] = model"
   ],
   "metadata": {
    "collapsed": false,
    "pycharm": {
     "name": "#%%\n"
    }
   }
  },
  {
   "cell_type": "code",
   "execution_count": 62,
   "outputs": [
    {
     "name": "stdout",
     "output_type": "stream",
     "text": [
      "(<2195x6290 sparse matrix of type '<class 'numpy.int64'>'\n",
      "\twith 1663510 stored elements in Compressed Sparse Row format>, array([   0,   55,  118,  183,  262,  329,  392,  443,  498,  555,  600,\n",
      "        685,  750,  799,  850,  923,  986, 1051, 1114, 1189, 1248, 1315,\n",
      "       1364, 1433, 1488, 1543, 1598, 1647, 1718, 1801, 1870, 1935, 1978,\n",
      "       2039, 2100, 2149, 2208, 2279, 2334, 2399, 2468, 2527, 2604, 2663,\n",
      "       2730, 2795, 2850, 2901, 2968, 3031, 3078, 3135, 3202, 3263, 3320,\n",
      "       3377, 3428, 3495, 3564, 3621, 3690, 3767, 3840, 3909, 3980, 4037,\n",
      "       4104, 4163, 4246, 4307, 4360, 4445, 4514, 4569, 4624, 4705, 4764,\n",
      "       4817, 4876, 4925, 4992, 5053, 5114, 5173, 5250, 5319, 5378, 5437,\n",
      "       5494, 5549, 5622, 5693, 5768, 5825, 5902, 5963, 6022, 6079, 6158,\n",
      "       6221, 6290], dtype=int32))\n",
      "RandomForestClassifier()\n",
      "    Name  Importance\n",
      "50   z13    0.004027\n",
      "1     y1    0.004215\n",
      "41   y11    0.004238\n",
      "34    z9    0.004360\n",
      "17    y5    0.004578\n",
      "123  v31    0.005265\n",
      "128  x33    0.007181\n",
      "104  x27    0.007782\n",
      "99   v25    0.008188\n",
      "112  x29    0.008232\n",
      "95   v24    0.008369\n",
      "36   x10    0.008565\n",
      "129  y33    0.009650\n",
      "0     x1    0.010144\n",
      "113  y29    0.010405\n",
      "121  y31    0.011372\n",
      "120  x31    0.012966\n",
      "44   x12    0.013660\n",
      "28    x8    0.013936\n",
      "101  y26    0.014720\n",
      "4     x2    0.015402\n",
      "124  x32    0.016892\n",
      "40   x11    0.016922\n",
      "105  y27    0.018626\n",
      "8     x3    0.019453\n",
      "12    x4    0.019576\n",
      "97   y25    0.021730\n",
      "96   x25    0.021904\n",
      "100  x26    0.029204\n",
      "93   y24    0.029386\n",
      "24    x7    0.034851\n",
      "16    x5    0.035569\n",
      "108  x28    0.037593\n",
      "116  x30    0.040296\n",
      "125  y32    0.043890\n",
      "20    x6    0.045000\n",
      "92   x24    0.052713\n",
      "117  y30    0.053687\n",
      "109  y28    0.056885\n",
      "32    x9    0.063524\n"
     ]
    }
   ],
   "source": [
    "    rf_model = fit_models[\"rf\"][\"randomforestclassifier\"]\n",
    "    print(rf_model.decision_path(X_train))\n",
    "    print(rf_model)\n",
    "    lst = []\n",
    "    for name, importance in zip(X.columns, rf_model.feature_importances_):\n",
    "        lst.append([name, importance])\n",
    "    rf_model_df = pd.DataFrame(lst, columns=[\"Name\", \"Importance\"])\n",
    "    rf_model_df = rf_model_df.sort_values(by=\"Importance\")\n",
    "    rf_important = rf_model_df.iloc[-40:,0:2]\n",
    "print(rf_important)"
   ],
   "metadata": {
    "collapsed": false,
    "pycharm": {
     "name": "#%%\n"
    }
   }
  },
  {
   "cell_type": "code",
   "execution_count": null,
   "outputs": [],
   "source": [
    "    for algo, model in fit_models.items():\n",
    "        yhat = model.predict(X_test)\n",
    "        print(algo, accuracy_score(y_test, yhat))"
   ],
   "metadata": {
    "collapsed": false,
    "pycharm": {
     "name": "#%%\n"
    }
   }
  },
  {
   "cell_type": "code",
   "execution_count": null,
   "outputs": [],
   "source": [
    "    with open(\"C:\\\\Users\\\\prsullins\\\\OneDrive - Creative Manufacturing, LLC\\\\ALM.SWE\\\\DGMD-14\\\\golf_model.pkl\", 'wb') as f:\n",
    "        pickle.dump(fit_models['rf'], f)\n",
    "else:\n",
    "    print(\"Flag Is Set To False\")\n",
    "\n",
    "print(\"Over\")"
   ],
   "metadata": {
    "collapsed": false,
    "pycharm": {
     "name": "#%%\n"
    }
   }
  }
 ],
 "metadata": {
  "kernelspec": {
   "display_name": "Python 3",
   "language": "python",
   "name": "python3"
  },
  "language_info": {
   "codemirror_mode": {
    "name": "ipython",
    "version": 2
   },
   "file_extension": ".py",
   "mimetype": "text/x-python",
   "name": "python",
   "nbconvert_exporter": "python",
   "pygments_lexer": "ipython2",
   "version": "2.7.6"
  }
 },
 "nbformat": 4,
 "nbformat_minor": 0
}