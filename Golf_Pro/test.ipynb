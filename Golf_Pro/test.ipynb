{
 "cells": [
  {
   "cell_type": "code",
   "execution_count": 18,
   "outputs": [],
   "source": [
    "import pandas as pd\n",
    "from sklearn.model_selection import train_test_split\n",
    "from sklearn.pipeline import make_pipeline\n",
    "from sklearn.preprocessing import StandardScaler\n",
    "from sklearn.metrics import accuracy_score\n",
    "from sklearn.linear_model import LogisticRegression, RidgeClassifier\n",
    "from sklearn.ensemble import RandomForestClassifier, GradientBoostingClassifier\n",
    "import pickle"
   ],
   "metadata": {
    "collapsed": false,
    "pycharm": {
     "name": "#%%\n"
    }
   }
  },
  {
   "cell_type": "code",
   "execution_count": 19,
   "outputs": [],
   "source": [
    "flag = True\n",
    "\n",
    "if flag:\n",
    "    df = pd.read_csv(\"C:\\\\Users\\\\prsullins\\\\OneDrive - Creative Manufacturing, LLC\\\\ALM.SWE\\\\DGMD-14\\\\golf.csv\")"
   ],
   "metadata": {
    "collapsed": false,
    "pycharm": {
     "name": "#%%\n"
    }
   }
  },
  {
   "cell_type": "code",
   "execution_count": 19,
   "outputs": [],
   "source": [],
   "metadata": {
    "collapsed": false,
    "pycharm": {
     "name": "#%%\n"
    }
   }
  },
  {
   "cell_type": "code",
   "execution_count": 20,
   "outputs": [],
   "source": [
    "    X = df.drop('class', axis=1) # features\n",
    "    y = df['class'] # target value\n",
    "\n",
    "    X_train, X_test, y_train, y_test = train_test_split(X, y, test_size=0.3, random_state=1234)\n",
    "\n",
    "    pipelines = {\n",
    "        'lr':make_pipeline(StandardScaler(), LogisticRegression(max_iter=50)),\n",
    "        'rc':make_pipeline(StandardScaler(), RidgeClassifier()),\n",
    "        'rf':make_pipeline(StandardScaler(), RandomForestClassifier(bootstrap=True,oob_score=True)),\n",
    "        'gb':make_pipeline(StandardScaler(), GradientBoostingClassifier()),\n",
    "    }"
   ],
   "metadata": {
    "collapsed": false,
    "pycharm": {
     "name": "#%%\n"
    }
   }
  },
  {
   "cell_type": "code",
   "execution_count": 21,
   "outputs": [
    {
     "name": "stderr",
     "output_type": "stream",
     "text": [
      "c:\\users\\prsullins\\appdata\\local\\programs\\python\\python37\\lib\\site-packages\\sklearn\\linear_model\\_logistic.py:765: ConvergenceWarning: lbfgs failed to converge (status=1):\n",
      "STOP: TOTAL NO. of ITERATIONS REACHED LIMIT.\n",
      "\n",
      "Increase the number of iterations (max_iter) or scale the data as shown in:\n",
      "    https://scikit-learn.org/stable/modules/preprocessing.html\n",
      "Please also refer to the documentation for alternative solver options:\n",
      "    https://scikit-learn.org/stable/modules/linear_model.html#logistic-regression\n",
      "  extra_warning_msg=_LOGISTIC_SOLVER_CONVERGENCE_MSG)\n"
     ]
    }
   ],
   "source": [
    "    fit_models = {}\n",
    "    for algo, pipeline in pipelines.items():\n",
    "        model = pipeline.fit(X_train, y_train)\n",
    "        fit_models[algo] = model"
   ],
   "metadata": {
    "collapsed": false,
    "pycharm": {
     "name": "#%%\n"
    }
   }
  },
  {
   "cell_type": "code",
   "execution_count": 22,
   "outputs": [
    {
     "name": "stdout",
     "output_type": "stream",
     "text": [
      "(<2195x6302 sparse matrix of type '<class 'numpy.int64'>'\n",
      "\twith 1570508 stored elements in Compressed Sparse Row format>, array([   0,   67,  118,  177,  232,  295,  348,  395,  468,  543,  596,\n",
      "        653,  740,  791,  868,  917,  994, 1061, 1120, 1171, 1228, 1283,\n",
      "       1338, 1393, 1452, 1509, 1564, 1619, 1670, 1717, 1780, 1845, 1928,\n",
      "       1983, 2070, 2139, 2204, 2265, 2328, 2395, 2478, 2579, 2648, 2733,\n",
      "       2806, 2891, 2948, 3015, 3080, 3145, 3210, 3265, 3318, 3369, 3426,\n",
      "       3489, 3548, 3619, 3696, 3751, 3826, 3901, 3966, 4027, 4086, 4135,\n",
      "       4190, 4243, 4318, 4387, 4450, 4515, 4586, 4647, 4708, 4761, 4832,\n",
      "       4891, 4946, 5017, 5070, 5135, 5192, 5235, 5302, 5357, 5410, 5465,\n",
      "       5532, 5593, 5658, 5725, 5796, 5867, 5928, 5983, 6050, 6125, 6184,\n",
      "       6253, 6302], dtype=int32))\n",
      "RandomForestClassifier(oob_score=True)\n",
      "      Name  Importance\n",
      "2       z1    0.004734\n",
      "132  Frame    0.004769\n",
      "61     y16    0.004865\n",
      "44     x12    0.004941\n",
      "112    x29    0.005128\n",
      "9       y3    0.005175\n",
      "128    x33    0.006752\n",
      "37     y10    0.007301\n",
      "95     v24    0.007922\n",
      "121    y31    0.007954\n",
      "34      z9    0.008317\n",
      "104    x27    0.008648\n",
      "120    x31    0.008808\n",
      "129    y33    0.009093\n",
      "40     x11    0.010006\n",
      "101    y26    0.011568\n",
      "105    y27    0.012478\n",
      "0       x1    0.012496\n",
      "124    x32    0.013181\n",
      "4       x2    0.013625\n",
      "113    y29    0.014092\n",
      "28      x8    0.014125\n",
      "8       x3    0.015809\n",
      "99     v25    0.015956\n",
      "93     y24    0.020712\n",
      "97     y25    0.020836\n",
      "16      x5    0.021990\n",
      "12      x4    0.022245\n",
      "36     x10    0.022506\n",
      "96     x25    0.023138\n",
      "108    x28    0.023514\n",
      "100    x26    0.024599\n",
      "20      x6    0.028798\n",
      "125    y32    0.030319\n",
      "116    x30    0.038299\n",
      "24      x7    0.057569\n",
      "109    y28    0.061486\n",
      "32      x9    0.061652\n",
      "92     x24    0.065269\n",
      "117    y30    0.074414\n"
     ]
    }
   ],
   "source": [
    "    rf_model = fit_models[\"rf\"][\"randomforestclassifier\"]\n",
    "    print(rf_model.decision_path(X_train))\n",
    "    print(rf_model)\n",
    "    lst = []\n",
    "    for name, importance in zip(X.columns, rf_model.feature_importances_):\n",
    "        lst.append([name, importance])\n",
    "    rf_model_df = pd.DataFrame(lst, columns=[\"Name\", \"Importance\"])\n",
    "    rf_model_df = rf_model_df.sort_values(by=\"Importance\")\n",
    "    rf_important = rf_model_df.iloc[-40:,0:2]\n",
    "print(rf_important)"
   ],
   "metadata": {
    "collapsed": false,
    "pycharm": {
     "name": "#%%\n"
    }
   }
  },
  {
   "cell_type": "code",
   "execution_count": 23,
   "outputs": [
    {
     "name": "stdout",
     "output_type": "stream",
     "text": [
      "lr 0.9915074309978769\n",
      "rc 0.9957537154989384\n",
      "rf 1.0\n",
      "gb 1.0\n"
     ]
    }
   ],
   "source": [
    "    for algo, model in fit_models.items():\n",
    "        yhat = model.predict(X_test)\n",
    "        print(algo, accuracy_score(y_test, yhat))"
   ],
   "metadata": {
    "collapsed": false,
    "pycharm": {
     "name": "#%%\n"
    }
   }
  },
  {
   "cell_type": "code",
   "execution_count": 24,
   "outputs": [
    {
     "name": "stdout",
     "output_type": "stream",
     "text": [
      "Over\n"
     ]
    }
   ],
   "source": [
    "\n",
    "\n",
    "print(\"Over\")"
   ],
   "metadata": {
    "collapsed": false,
    "pycharm": {
     "name": "#%%\n"
    }
   }
  }
 ],
 "metadata": {
  "kernelspec": {
   "display_name": "Python 3",
   "language": "python",
   "name": "python3"
  },
  "language_info": {
   "codemirror_mode": {
    "name": "ipython",
    "version": 2
   },
   "file_extension": ".py",
   "mimetype": "text/x-python",
   "name": "python",
   "nbconvert_exporter": "python",
   "pygments_lexer": "ipython2",
   "version": "2.7.6"
  }
 },
 "nbformat": 4,
 "nbformat_minor": 0
}