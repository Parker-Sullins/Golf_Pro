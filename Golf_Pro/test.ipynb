{
 "cells": [
  {
   "cell_type": "code",
   "execution_count": 11,
   "outputs": [],
   "source": [
    "import pandas as pd\n",
    "from sklearn.model_selection import train_test_split\n",
    "from sklearn.pipeline import make_pipeline\n",
    "from sklearn.preprocessing import StandardScaler\n",
    "from sklearn.metrics import accuracy_score\n",
    "from sklearn.linear_model import LogisticRegression, RidgeClassifier\n",
    "from sklearn.ensemble import RandomForestClassifier, GradientBoostingClassifier\n",
    "import pickle"
   ],
   "metadata": {
    "collapsed": false,
    "pycharm": {
     "name": "#%%\n"
    }
   }
  },
  {
   "cell_type": "code",
   "execution_count": 12,
   "outputs": [],
   "source": [
    "flag = True\n",
    "\n",
    "if flag:\n",
    "    df = pd.read_csv(\"C:\\\\Users\\\\prsullins\\\\OneDrive - Creative Manufacturing, LLC\\\\ALM.SWE\\\\DGMD-14\\\\golf.csv\")"
   ],
   "metadata": {
    "collapsed": false,
    "pycharm": {
     "name": "#%%\n"
    }
   }
  },
  {
   "cell_type": "code",
   "execution_count": 12,
   "outputs": [],
   "source": [],
   "metadata": {
    "collapsed": false,
    "pycharm": {
     "name": "#%%\n"
    }
   }
  },
  {
   "cell_type": "code",
   "execution_count": 13,
   "outputs": [],
   "source": [
    "    X = df.drop('class', axis=1) # features\n",
    "    y = df['class'] # target value\n",
    "\n",
    "    X_train, X_test, y_train, y_test = train_test_split(X, y, test_size=0.3, random_state=1234)\n",
    "\n",
    "    pipelines = {\n",
    "        'lr':make_pipeline(StandardScaler(), LogisticRegression(max_iter=50)),\n",
    "        'rc':make_pipeline(StandardScaler(), RidgeClassifier()),\n",
    "        'rf':make_pipeline(StandardScaler(), RandomForestClassifier()),\n",
    "        'gb':make_pipeline(StandardScaler(), GradientBoostingClassifier()),\n",
    "    }"
   ],
   "metadata": {
    "collapsed": false,
    "pycharm": {
     "name": "#%%\n"
    }
   }
  },
  {
   "cell_type": "code",
   "execution_count": 14,
   "outputs": [
    {
     "name": "stderr",
     "output_type": "stream",
     "text": [
      "c:\\users\\prsullins\\appdata\\local\\programs\\python\\python37\\lib\\site-packages\\sklearn\\linear_model\\_logistic.py:765: ConvergenceWarning: lbfgs failed to converge (status=1):\n",
      "STOP: TOTAL NO. of ITERATIONS REACHED LIMIT.\n",
      "\n",
      "Increase the number of iterations (max_iter) or scale the data as shown in:\n",
      "    https://scikit-learn.org/stable/modules/preprocessing.html\n",
      "Please also refer to the documentation for alternative solver options:\n",
      "    https://scikit-learn.org/stable/modules/linear_model.html#logistic-regression\n",
      "  extra_warning_msg=_LOGISTIC_SOLVER_CONVERGENCE_MSG)\n"
     ]
    }
   ],
   "source": [
    "    fit_models = {}\n",
    "    for algo, pipeline in pipelines.items():\n",
    "        model = pipeline.fit(X_train, y_train)\n",
    "        fit_models[algo] = model"
   ],
   "metadata": {
    "collapsed": false,
    "pycharm": {
     "name": "#%%\n"
    }
   }
  },
  {
   "cell_type": "code",
   "execution_count": 15,
   "outputs": [
    {
     "name": "stdout",
     "output_type": "stream",
     "text": [
      "(<2195x6248 sparse matrix of type '<class 'numpy.int64'>'\n",
      "\twith 1573317 stored elements in Compressed Sparse Row format>, array([   0,   55,  100,  159,  220,  277,  336,  395,  450,  519,  578,\n",
      "        659,  730,  791,  876,  945,  988, 1043, 1118, 1185, 1240, 1297,\n",
      "       1344, 1413, 1472, 1527, 1580, 1643, 1694, 1747, 1802, 1875, 1964,\n",
      "       2031, 2118, 2169, 2238, 2295, 2364, 2425, 2480, 2539, 2596, 2657,\n",
      "       2718, 2791, 2854, 2907, 2970, 3057, 3128, 3185, 3228, 3297, 3350,\n",
      "       3415, 3478, 3533, 3590, 3631, 3700, 3761, 3830, 3887, 3936, 4033,\n",
      "       4102, 4151, 4216, 4305, 4374, 4425, 4496, 4563, 4614, 4677, 4750,\n",
      "       4809, 4872, 4921, 4986, 5045, 5092, 5163, 5228, 5303, 5376, 5451,\n",
      "       5516, 5589, 5640, 5711, 5772, 5837, 5898, 5937, 6006, 6055, 6134,\n",
      "       6191, 6248], dtype=int32))\n",
      "RandomForestClassifier()\n",
      "    Name  Importance\n",
      "61   y16    0.004695\n",
      "57   y15    0.004808\n",
      "126  z32    0.005310\n",
      "53   y14    0.005319\n",
      "50   z13    0.005409\n",
      "41   y11    0.005574\n",
      "44   x12    0.006808\n",
      "95   v24    0.007163\n",
      "104  x27    0.007357\n",
      "33    y9    0.007556\n",
      "113  y29    0.007871\n",
      "120  x31    0.007872\n",
      "112  x29    0.008597\n",
      "129  y33    0.011718\n",
      "4     x2    0.011805\n",
      "105  y27    0.011915\n",
      "124  x32    0.012093\n",
      "121  y31    0.013126\n",
      "36   x10    0.013203\n",
      "40   x11    0.014368\n",
      "99   v25    0.015954\n",
      "96   x25    0.016414\n",
      "97   y25    0.016919\n",
      "8     x3    0.018618\n",
      "28    x8    0.018789\n",
      "12    x4    0.020823\n",
      "100  x26    0.021170\n",
      "101  y26    0.022092\n",
      "16    x5    0.023704\n",
      "93   y24    0.024061\n",
      "0     x1    0.026218\n",
      "125  y32    0.030864\n",
      "24    x7    0.033421\n",
      "20    x6    0.043734\n",
      "108  x28    0.045031\n",
      "116  x30    0.049338\n",
      "92   x24    0.052030\n",
      "32    x9    0.057015\n",
      "109  y28    0.063850\n",
      "117  y30    0.065369\n"
     ]
    }
   ],
   "source": [
    "    rf_model = fit_models[\"rf\"][\"randomforestclassifier\"]\n",
    "    print(rf_model.decision_path(X_train))\n",
    "    print(rf_model)\n",
    "    lst = []\n",
    "    for name, importance in zip(X.columns, rf_model.feature_importances_):\n",
    "        lst.append([name, importance])\n",
    "    rf_model_df = pd.DataFrame(lst, columns=[\"Name\", \"Importance\"])\n",
    "    rf_model_df = rf_model_df.sort_values(by=\"Importance\")\n",
    "    rf_important = rf_model_df.iloc[-40:,0:2]\n",
    "print(rf_important)"
   ],
   "metadata": {
    "collapsed": false,
    "pycharm": {
     "name": "#%%\n"
    }
   }
  },
  {
   "cell_type": "code",
   "execution_count": 16,
   "outputs": [
    {
     "name": "stdout",
     "output_type": "stream",
     "text": [
      "lr 0.9915074309978769\n",
      "rc 0.9957537154989384\n",
      "rf 0.9978768577494692\n",
      "gb 1.0\n"
     ]
    }
   ],
   "source": [
    "    for algo, model in fit_models.items():\n",
    "        yhat = model.predict(X_test)\n",
    "        print(algo, accuracy_score(y_test, yhat))"
   ],
   "metadata": {
    "collapsed": false,
    "pycharm": {
     "name": "#%%\n"
    }
   }
  },
  {
   "cell_type": "code",
   "execution_count": 17,
   "outputs": [
    {
     "name": "stdout",
     "output_type": "stream",
     "text": [
      "Over\n"
     ]
    }
   ],
   "source": [
    "\n",
    "\n",
    "print(\"Over\")"
   ],
   "metadata": {
    "collapsed": false,
    "pycharm": {
     "name": "#%%\n"
    }
   }
  }
 ],
 "metadata": {
  "kernelspec": {
   "display_name": "Python 3",
   "language": "python",
   "name": "python3"
  },
  "language_info": {
   "codemirror_mode": {
    "name": "ipython",
    "version": 2
   },
   "file_extension": ".py",
   "mimetype": "text/x-python",
   "name": "python",
   "nbconvert_exporter": "python",
   "pygments_lexer": "ipython2",
   "version": "2.7.6"
  }
 },
 "nbformat": 4,
 "nbformat_minor": 0
}